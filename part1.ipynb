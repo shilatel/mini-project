{
 "cells": [
  {
   "cell_type": "markdown",
   "metadata": {},
   "source": [
    "A.\n",
    "                                      General Neuron (base)\n",
    "                                               |\n",
    "                    |                                               |\n",
    "         Sensory Neuron(intermediate)                        Motor Neuron (intermediate)\n",
    "            |                   |                                |                 |\n",
    "      Photoreceptor(leaf)  Mechanoreceptor (leaf)             Alpha (leaf)        Gamma (leaf)"
   ]
  },
  {
   "cell_type": "code",
   "execution_count": null,
   "metadata": {},
   "outputs": [],
   "source": [
    "#B\n",
    "#base class\n",
    "#1\n",
    "class GeneralNeuron:\n",
    "    def __init__(self,firing_rate):\n",
    "        self.firing_rate= firing_rate\n",
    "    def activate(self,stimulus): #calculate the firing rate\n",
    "        pass\n",
    "\n",
    "# intermediate classes\n",
    "# 2 \n",
    "class SensoryNeuron(GeneralNeuron):\n",
    "    def __init__(self, firing_rate,receptor_type):\n",
    "        super().__init__(firing_rate) #inherit form the base class\n",
    "        self.receptor_type=receptor_type\n",
    "    def sense_stimulus (self, stimulus): #activate the nerone\n",
    "        pass\n",
    "#3\n",
    "class MotorNeuron(GeneralNeuron):\n",
    "    def __init__(self, firing_rate, target_muscle):\n",
    "        super().__init__(firing_rate) #inherit form the base class\n",
    "        self.target_muscle=target_muscle\n",
    "    def control_muscle (self,activation_level): #triggers a response in the target muscle\n",
    "        pass\n",
    "#leaf classes\n",
    "# 4  \n",
    "class Photoreceptor(SensoryNeuron):\n",
    "    def __init__(self, firing_rate, receptor_type):\n",
    "        super().__init__(firing_rate, receptor_type=\"light\") #inherit form Sensory Neuron class, the receptor type fixed as \"light\"\n",
    "    def light_detection(self,light_intensity): #activates according to light level \n",
    "        pass\n",
    "    def activate(self, stimulus):\n",
    "        return super().activate(stimulus)\n",
    "            \n",
    "\n",
    "#5\n",
    "class Mechanoreceptor(SensoryNeuron):\n",
    "    def __init__(self, firing_rate, receptor_type): \n",
    "        super().__init__(firing_rate, receptor_type=\"pressure\") #inherit form Sensory Neuron class, the receptor type fixed as \"pressure\"\n",
    "    def pressure_detection(self,pressure): #activates in response to pressure\n",
    "        pass\n",
    "\n",
    "#6\n",
    "class Alpha(MotorNeuron):\n",
    "    def __init__(self, firing_rate, target_muscle):\n",
    "        super().__init__(firing_rate, target_muscle= \"skeletal muscle\") #inherit form Motor Neuron class, the target muscle fixed as \"skeletal muscle\"\n",
    "    def skeletal_muscle_control(self,activation_level): #control skeletal muscle in response to its activation level\n",
    "        pass\n",
    "    \n",
    "#7\n",
    "class Gamma(MotorNeuron):\n",
    "    def __init__(self, firing_rate, target_muscle):\n",
    "        super().__init__(firing_rate, target_muscle= \"muscle spindle\") #inherit form Motor Neuron class, the target muscle fixed as \"muscle spindle\"\n",
    "    def muscle_spindle_control(self,activation): \n",
    "        pass"
   ]
  },
  {
   "cell_type": "code",
   "execution_count": null,
   "metadata": {},
   "outputs": [],
   "source": []
  },
  {
   "cell_type": "code",
   "execution_count": null,
   "metadata": {},
   "outputs": [],
   "source": []
  }
 ],
 "metadata": {
  "kernelspec": {
   "display_name": "Python 3",
   "language": "python",
   "name": "python3"
  },
  "language_info": {
   "name": "python",
   "version": "3.13.0"
  }
 },
 "nbformat": 4,
 "nbformat_minor": 2
}
